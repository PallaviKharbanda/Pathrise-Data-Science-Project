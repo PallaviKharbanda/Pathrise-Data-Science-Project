{
 "cells": [
  {
   "cell_type": "markdown",
   "metadata": {},
   "source": [
    "## Project Goal:\n",
    "#### This Project is related to identify if a fellow will ultimately be placed at a company and how long until a placement can be expected. "
   ]
  },
  {
   "cell_type": "markdown",
   "metadata": {},
   "source": [
    "## The project can be classified into two problems:\n",
    "1) Problem Statement 1 ===>> To identify if a fellow will ultimately be placed at a company \n",
    "\n",
    "2) Problem Statement 2 ===>> To predict how long will it take for the candidate to get placed."
   ]
  },
  {
   "cell_type": "code",
   "execution_count": null,
   "metadata": {},
   "outputs": [],
   "source": [
    "Steps for Analysis Includes:\n",
    "\n",
    " Step 1 : Import the libraries and dataset\n",
    "\n",
    " Step 2 : See DataFrame and show basic info and statistical interference about the dataset\n",
    "\n",
    " Step 3:  Check out the missing values and handle it\n",
    "\n",
    " Step 4 : See the Categorical Values and handle it\n",
    "\n",
    " Step 5 : Findout independent and dependent variable for Problem Statements 1 and 2 under consideration\n",
    "\n",
    " Step 6 : Splitting the dataset into Training and Test Set\n",
    "\n",
    " Step 7 : Model Building\n",
    "\n",
    " Step 8 : Model Evaluation\n",
    "    \n",
    " Step 9 : Model Deployment \n",
    "    \n",
    " Step 10 : Conclusion\n",
    "    "
   ]
  },
  {
   "cell_type": "markdown",
   "metadata": {},
   "source": [
    "### Importing Libraries and Data"
   ]
  },
  {
   "cell_type": "code",
   "execution_count": 275,
   "metadata": {},
   "outputs": [],
   "source": [
    "import pandas as pd\n",
    "import warnings \n",
    "warnings.filterwarnings('ignore')\n",
    "import numpy as np"
   ]
  },
  {
   "cell_type": "code",
   "execution_count": 276,
   "metadata": {},
   "outputs": [
    {
     "data": {
      "text/html": [
       "<div>\n",
       "<style scoped>\n",
       "    .dataframe tbody tr th:only-of-type {\n",
       "        vertical-align: middle;\n",
       "    }\n",
       "\n",
       "    .dataframe tbody tr th {\n",
       "        vertical-align: top;\n",
       "    }\n",
       "\n",
       "    .dataframe thead th {\n",
       "        text-align: right;\n",
       "    }\n",
       "</style>\n",
       "<table border=\"1\" class=\"dataframe\">\n",
       "  <thead>\n",
       "    <tr style=\"text-align: right;\">\n",
       "      <th></th>\n",
       "      <th>pathrise_status</th>\n",
       "      <th>primary_track</th>\n",
       "      <th>cohort_tag</th>\n",
       "      <th>program_duration_days</th>\n",
       "      <th>placed</th>\n",
       "      <th>employment_status</th>\n",
       "      <th>highest_level_of_education</th>\n",
       "      <th>length_of_job_search</th>\n",
       "      <th>biggest_challenge_in_search</th>\n",
       "      <th>professional_experience</th>\n",
       "      <th>work_authorization_status</th>\n",
       "      <th>number_of_interviews</th>\n",
       "      <th>number_of_applications</th>\n",
       "      <th>gender</th>\n",
       "      <th>race</th>\n",
       "    </tr>\n",
       "    <tr>\n",
       "      <th>id</th>\n",
       "      <th></th>\n",
       "      <th></th>\n",
       "      <th></th>\n",
       "      <th></th>\n",
       "      <th></th>\n",
       "      <th></th>\n",
       "      <th></th>\n",
       "      <th></th>\n",
       "      <th></th>\n",
       "      <th></th>\n",
       "      <th></th>\n",
       "      <th></th>\n",
       "      <th></th>\n",
       "      <th></th>\n",
       "      <th></th>\n",
       "    </tr>\n",
       "  </thead>\n",
       "  <tbody>\n",
       "    <tr>\n",
       "      <th>1</th>\n",
       "      <td>Active</td>\n",
       "      <td>SWE</td>\n",
       "      <td>OCT19A</td>\n",
       "      <td>NaN</td>\n",
       "      <td>0</td>\n",
       "      <td>Unemployed</td>\n",
       "      <td>Bachelor's Degree</td>\n",
       "      <td>3-5 months</td>\n",
       "      <td>Hearing back on my applications</td>\n",
       "      <td>3-4 years</td>\n",
       "      <td>Canada Citizen</td>\n",
       "      <td>2.0</td>\n",
       "      <td>900</td>\n",
       "      <td>Male</td>\n",
       "      <td>Non-Hispanic White or Euro-American</td>\n",
       "    </tr>\n",
       "    <tr>\n",
       "      <th>2</th>\n",
       "      <td>Active</td>\n",
       "      <td>PSO</td>\n",
       "      <td>JAN20A</td>\n",
       "      <td>NaN</td>\n",
       "      <td>0</td>\n",
       "      <td>Unemployed</td>\n",
       "      <td>Some College, No Degree</td>\n",
       "      <td>3-5 months</td>\n",
       "      <td>Getting past final round interviews</td>\n",
       "      <td>1-2 years</td>\n",
       "      <td>Citizen</td>\n",
       "      <td>6.0</td>\n",
       "      <td>0</td>\n",
       "      <td>Male</td>\n",
       "      <td>Non-Hispanic White or Euro-American</td>\n",
       "    </tr>\n",
       "  </tbody>\n",
       "</table>\n",
       "</div>"
      ],
      "text/plain": [
       "   pathrise_status primary_track cohort_tag  program_duration_days  placed  \\\n",
       "id                                                                           \n",
       "1           Active           SWE     OCT19A                    NaN       0   \n",
       "2           Active           PSO     JAN20A                    NaN       0   \n",
       "\n",
       "   employment_status  highest_level_of_education length_of_job_search  \\\n",
       "id                                                                      \n",
       "1          Unemployed          Bachelor's Degree           3-5 months   \n",
       "2          Unemployed    Some College, No Degree           3-5 months   \n",
       "\n",
       "            biggest_challenge_in_search professional_experience  \\\n",
       "id                                                                \n",
       "1       Hearing back on my applications               3-4 years   \n",
       "2   Getting past final round interviews               1-2 years   \n",
       "\n",
       "   work_authorization_status  number_of_interviews  number_of_applications  \\\n",
       "id                                                                           \n",
       "1             Canada Citizen                   2.0                     900   \n",
       "2                    Citizen                   6.0                       0   \n",
       "\n",
       "   gender                                 race  \n",
       "id                                              \n",
       "1    Male  Non-Hispanic White or Euro-American  \n",
       "2    Male  Non-Hispanic White or Euro-American  "
      ]
     },
     "execution_count": 276,
     "metadata": {},
     "output_type": "execute_result"
    }
   ],
   "source": [
    "dataset=pd.read_excel(\"Data_Pathrise.xlsx\",index_col=0)\n",
    "dataset.head(2)"
   ]
  },
  {
   "cell_type": "markdown",
   "metadata": {},
   "source": [
    "### Dataset info and statistical interference"
   ]
  },
  {
   "cell_type": "code",
   "execution_count": 277,
   "metadata": {},
   "outputs": [
    {
     "data": {
      "text/plain": [
       "(2544, 15)"
      ]
     },
     "execution_count": 277,
     "metadata": {},
     "output_type": "execute_result"
    }
   ],
   "source": [
    "dataset.shape"
   ]
  },
  {
   "cell_type": "code",
   "execution_count": 278,
   "metadata": {},
   "outputs": [
    {
     "data": {
      "text/plain": [
       "Index(['pathrise_status', 'primary_track', 'cohort_tag',\n",
       "       'program_duration_days', 'placed', 'employment_status ',\n",
       "       'highest_level_of_education', 'length_of_job_search',\n",
       "       'biggest_challenge_in_search', 'professional_experience',\n",
       "       'work_authorization_status', 'number_of_interviews',\n",
       "       'number_of_applications', 'gender', 'race'],\n",
       "      dtype='object')"
      ]
     },
     "execution_count": 278,
     "metadata": {},
     "output_type": "execute_result"
    }
   ],
   "source": [
    "dataset.columns"
   ]
  },
  {
   "cell_type": "code",
   "execution_count": 279,
   "metadata": {},
   "outputs": [],
   "source": [
    "dataset.columns = dataset.columns.str.rstrip()# To remove white spaces at end of column names"
   ]
  },
  {
   "cell_type": "code",
   "execution_count": 280,
   "metadata": {},
   "outputs": [
    {
     "name": "stdout",
     "output_type": "stream",
     "text": [
      "<class 'pandas.core.frame.DataFrame'>\n",
      "Int64Index: 2544 entries, 1 to 2544\n",
      "Data columns (total 15 columns):\n",
      " #   Column                       Non-Null Count  Dtype  \n",
      "---  ------                       --------------  -----  \n",
      " 0   pathrise_status              2544 non-null   object \n",
      " 1   primary_track                2544 non-null   object \n",
      " 2   cohort_tag                   2536 non-null   object \n",
      " 3   program_duration_days        1928 non-null   float64\n",
      " 4   placed                       2544 non-null   int64  \n",
      " 5   employment_status            2315 non-null   object \n",
      " 6   highest_level_of_education   2486 non-null   object \n",
      " 7   length_of_job_search         2470 non-null   object \n",
      " 8   biggest_challenge_in_search  2520 non-null   object \n",
      " 9   professional_experience      2322 non-null   object \n",
      " 10  work_authorization_status    2260 non-null   object \n",
      " 11  number_of_interviews         2326 non-null   float64\n",
      " 12  number_of_applications       2544 non-null   int64  \n",
      " 13  gender                       2052 non-null   object \n",
      " 14  race                         2526 non-null   object \n",
      "dtypes: float64(2), int64(2), object(11)\n",
      "memory usage: 318.0+ KB\n"
     ]
    }
   ],
   "source": [
    "dataset.info()"
   ]
  },
  {
   "cell_type": "markdown",
   "metadata": {},
   "source": [
    "### To address Problem Statement 1 and Problem Statement 2 and to keep our model simple, we can drop some unnecessary features "
   ]
  },
  {
   "cell_type": "code",
   "execution_count": 282,
   "metadata": {},
   "outputs": [],
   "source": [
    "dataset=dataset.drop([\"gender\",\"race\",\"cohort_tag\",\"number_of_applications\"],axis=1)"
   ]
  },
  {
   "cell_type": "markdown",
   "metadata": {},
   "source": [
    "### Dealing with Missing values\n",
    "For Categorical missing values, we replace each missing value by the most occuring value in their respective columns and for numerical missing values, we replace each missing value by mean value in respective columns."
   ]
  },
  {
   "cell_type": "code",
   "execution_count": 283,
   "metadata": {},
   "outputs": [],
   "source": [
    "dataset[\"biggest_challenge_in_search\"]=dataset[\"biggest_challenge_in_search\"].replace(np.nan, dataset[\"biggest_challenge_in_search\"].mode()[0])\n",
    "dataset[\"highest_level_of_education\"]=dataset[\"highest_level_of_education\"].replace(np.nan, dataset[\"highest_level_of_education\"].mode()[0])\n",
    "dataset[\"professional_experience\"]=dataset[\"professional_experience\"].replace(np.nan, dataset[\"professional_experience\"].mode()[0])\n",
    "dataset[\"employment_status\"]=dataset[\"employment_status\"].replace(np.nan, dataset[\"employment_status\"].mode()[0])\n",
    "dataset[\"number_of_interviews\"]=dataset[\"number_of_interviews\"].replace(np.nan, int(dataset[\"number_of_interviews\"].mean()))\n",
    "dataset[\"length_of_job_search\"]=dataset[\"length_of_job_search\"].replace(np.nan, dataset[\"length_of_job_search\"].mode()[0])\n",
    "dataset[\"work_authorization_status\"]=dataset[\"work_authorization_status\"].replace(np.nan, dataset[\"work_authorization_status\"].mode()[0])"
   ]
  },
  {
   "cell_type": "code",
   "execution_count": 284,
   "metadata": {},
   "outputs": [
    {
     "data": {
      "text/plain": [
       "pathrise_status                  0\n",
       "primary_track                    0\n",
       "program_duration_days          616\n",
       "placed                           0\n",
       "employment_status                0\n",
       "highest_level_of_education       0\n",
       "length_of_job_search             0\n",
       "biggest_challenge_in_search      0\n",
       "professional_experience          0\n",
       "work_authorization_status        0\n",
       "number_of_interviews             0\n",
       "dtype: int64"
      ]
     },
     "execution_count": 284,
     "metadata": {},
     "output_type": "execute_result"
    }
   ],
   "source": [
    "dataset.isnull().sum()# Since we need to identify program_duration_days, we won't replace missing values in that column."
   ]
  },
  {
   "cell_type": "code",
   "execution_count": 285,
   "metadata": {},
   "outputs": [
    {
     "data": {
      "text/html": [
       "<div>\n",
       "<style scoped>\n",
       "    .dataframe tbody tr th:only-of-type {\n",
       "        vertical-align: middle;\n",
       "    }\n",
       "\n",
       "    .dataframe tbody tr th {\n",
       "        vertical-align: top;\n",
       "    }\n",
       "\n",
       "    .dataframe thead th {\n",
       "        text-align: right;\n",
       "    }\n",
       "</style>\n",
       "<table border=\"1\" class=\"dataframe\">\n",
       "  <thead>\n",
       "    <tr style=\"text-align: right;\">\n",
       "      <th></th>\n",
       "      <th>pathrise_status</th>\n",
       "      <th>primary_track</th>\n",
       "      <th>program_duration_days</th>\n",
       "      <th>placed</th>\n",
       "      <th>employment_status</th>\n",
       "      <th>highest_level_of_education</th>\n",
       "      <th>length_of_job_search</th>\n",
       "      <th>biggest_challenge_in_search</th>\n",
       "      <th>professional_experience</th>\n",
       "      <th>work_authorization_status</th>\n",
       "      <th>number_of_interviews</th>\n",
       "    </tr>\n",
       "    <tr>\n",
       "      <th>id</th>\n",
       "      <th></th>\n",
       "      <th></th>\n",
       "      <th></th>\n",
       "      <th></th>\n",
       "      <th></th>\n",
       "      <th></th>\n",
       "      <th></th>\n",
       "      <th></th>\n",
       "      <th></th>\n",
       "      <th></th>\n",
       "      <th></th>\n",
       "    </tr>\n",
       "  </thead>\n",
       "  <tbody>\n",
       "    <tr>\n",
       "      <th>1</th>\n",
       "      <td>Active</td>\n",
       "      <td>SWE</td>\n",
       "      <td>NaN</td>\n",
       "      <td>0</td>\n",
       "      <td>Unemployed</td>\n",
       "      <td>Bachelor's Degree</td>\n",
       "      <td>3-5 months</td>\n",
       "      <td>Hearing back on my applications</td>\n",
       "      <td>3-4 years</td>\n",
       "      <td>Canada Citizen</td>\n",
       "      <td>2.0</td>\n",
       "    </tr>\n",
       "    <tr>\n",
       "      <th>2</th>\n",
       "      <td>Active</td>\n",
       "      <td>PSO</td>\n",
       "      <td>NaN</td>\n",
       "      <td>0</td>\n",
       "      <td>Unemployed</td>\n",
       "      <td>Some College, No Degree</td>\n",
       "      <td>3-5 months</td>\n",
       "      <td>Getting past final round interviews</td>\n",
       "      <td>1-2 years</td>\n",
       "      <td>Citizen</td>\n",
       "      <td>6.0</td>\n",
       "    </tr>\n",
       "  </tbody>\n",
       "</table>\n",
       "</div>"
      ],
      "text/plain": [
       "   pathrise_status primary_track  program_duration_days  placed  \\\n",
       "id                                                                \n",
       "1           Active           SWE                    NaN       0   \n",
       "2           Active           PSO                    NaN       0   \n",
       "\n",
       "   employment_status highest_level_of_education length_of_job_search  \\\n",
       "id                                                                     \n",
       "1         Unemployed          Bachelor's Degree           3-5 months   \n",
       "2         Unemployed    Some College, No Degree           3-5 months   \n",
       "\n",
       "            biggest_challenge_in_search professional_experience  \\\n",
       "id                                                                \n",
       "1       Hearing back on my applications               3-4 years   \n",
       "2   Getting past final round interviews               1-2 years   \n",
       "\n",
       "   work_authorization_status  number_of_interviews  \n",
       "id                                                  \n",
       "1             Canada Citizen                   2.0  \n",
       "2                    Citizen                   6.0  "
      ]
     },
     "execution_count": 285,
     "metadata": {},
     "output_type": "execute_result"
    }
   ],
   "source": [
    "dataset.head(2)"
   ]
  },
  {
   "cell_type": "code",
   "execution_count": 286,
   "metadata": {},
   "outputs": [],
   "source": [
    "dataset[\"number_of_interviews\"]=dataset[\"number_of_interviews\"].astype(int)"
   ]
  },
  {
   "cell_type": "markdown",
   "metadata": {},
   "source": [
    "### Feature Engineering \n",
    "(Adding a new column dataset[\"number_of_interviews-binned\"] to dataset)"
   ]
  },
  {
   "cell_type": "code",
   "execution_count": 289,
   "metadata": {},
   "outputs": [],
   "source": [
    "def func1(x):\n",
    "    if x < 5:\n",
    "        return \"less than 5\"\n",
    "    elif x < 10:\n",
    "        return \"less than 10\"\n",
    "    elif x < 15:\n",
    "        return \"less than 15\"\n",
    "    else:\n",
    "        return 'more than 15'"
   ]
  },
  {
   "cell_type": "code",
   "execution_count": 290,
   "metadata": {},
   "outputs": [],
   "source": [
    "dataset[\"number_of_interviews-binned\"]=dataset[\"number_of_interviews\"].apply(func1)"
   ]
  },
  {
   "cell_type": "code",
   "execution_count": 291,
   "metadata": {},
   "outputs": [],
   "source": [
    "dataset=dataset.drop([\"number_of_interviews\"],axis=1)"
   ]
  },
  {
   "cell_type": "markdown",
   "metadata": {},
   "source": [
    "### Dealing with Categorical Values"
   ]
  },
  {
   "cell_type": "code",
   "execution_count": 292,
   "metadata": {},
   "outputs": [],
   "source": [
    "from sklearn.preprocessing import LabelEncoder\n",
    "label_encoder1 = LabelEncoder()\n",
    "label_encoder2 = LabelEncoder()\n",
    "label_encoder3 = LabelEncoder()\n",
    "label_encoder4 = LabelEncoder()\n",
    "label_encoder5 = LabelEncoder()\n",
    "label_encoder6 = LabelEncoder()\n",
    "label_encoder7 = LabelEncoder()\n",
    "label_encoder8= LabelEncoder()\n",
    "dataset[\"primary_track\"]=label_encoder1.fit_transform(dataset[\"primary_track\"].astype(str))\n",
    "dataset[\"biggest_challenge_in_search\"]=label_encoder2.fit_transform(dataset[\"biggest_challenge_in_search\"].astype(str))\n",
    "dataset[\"highest_level_of_education\"]=label_encoder3.fit_transform(dataset[\"highest_level_of_education\"].astype(str))\n",
    "dataset[\"professional_experience\"]=label_encoder4.fit_transform(dataset[\"professional_experience\"].astype(str))\n",
    "dataset[\"employment_status\"]=label_encoder5.fit_transform(dataset[\"employment_status\"].astype(str))\n",
    "dataset[\"number_of_interviews-binned\"]=label_encoder6.fit_transform(dataset[\"number_of_interviews-binned\"].astype(str))\n",
    "dataset[\"length_of_job_search\"]=label_encoder7.fit_transform(dataset[\"length_of_job_search\"].astype(str))\n",
    "dataset[\"work_authorization_status\"]=label_encoder8.fit_transform(dataset[\"work_authorization_status\"].astype(str))"
   ]
  },
  {
   "cell_type": "code",
   "execution_count": 184,
   "metadata": {},
   "outputs": [
    {
     "data": {
      "text/html": [
       "<div>\n",
       "<style scoped>\n",
       "    .dataframe tbody tr th:only-of-type {\n",
       "        vertical-align: middle;\n",
       "    }\n",
       "\n",
       "    .dataframe tbody tr th {\n",
       "        vertical-align: top;\n",
       "    }\n",
       "\n",
       "    .dataframe thead th {\n",
       "        text-align: right;\n",
       "    }\n",
       "</style>\n",
       "<table border=\"1\" class=\"dataframe\">\n",
       "  <thead>\n",
       "    <tr style=\"text-align: right;\">\n",
       "      <th></th>\n",
       "      <th>pathrise_status</th>\n",
       "      <th>primary_track</th>\n",
       "      <th>program_duration_days</th>\n",
       "      <th>placed</th>\n",
       "      <th>employment_status</th>\n",
       "      <th>highest_level_of_education</th>\n",
       "      <th>length_of_job_search</th>\n",
       "      <th>biggest_challenge_in_search</th>\n",
       "      <th>professional_experience</th>\n",
       "      <th>work_authorization_status</th>\n",
       "      <th>number_of_interviews-binned</th>\n",
       "    </tr>\n",
       "    <tr>\n",
       "      <th>id</th>\n",
       "      <th></th>\n",
       "      <th></th>\n",
       "      <th></th>\n",
       "      <th></th>\n",
       "      <th></th>\n",
       "      <th></th>\n",
       "      <th></th>\n",
       "      <th></th>\n",
       "      <th></th>\n",
       "      <th></th>\n",
       "      <th></th>\n",
       "    </tr>\n",
       "  </thead>\n",
       "  <tbody>\n",
       "    <tr>\n",
       "      <th>1</th>\n",
       "      <td>Active</td>\n",
       "      <td>4</td>\n",
       "      <td>NaN</td>\n",
       "      <td>0</td>\n",
       "      <td>4</td>\n",
       "      <td>0</td>\n",
       "      <td>1</td>\n",
       "      <td>5</td>\n",
       "      <td>1</td>\n",
       "      <td>0</td>\n",
       "      <td>2</td>\n",
       "    </tr>\n",
       "    <tr>\n",
       "      <th>2</th>\n",
       "      <td>Active</td>\n",
       "      <td>3</td>\n",
       "      <td>NaN</td>\n",
       "      <td>0</td>\n",
       "      <td>4</td>\n",
       "      <td>5</td>\n",
       "      <td>1</td>\n",
       "      <td>2</td>\n",
       "      <td>0</td>\n",
       "      <td>1</td>\n",
       "      <td>0</td>\n",
       "    </tr>\n",
       "  </tbody>\n",
       "</table>\n",
       "</div>"
      ],
      "text/plain": [
       "   pathrise_status  primary_track  program_duration_days  placed  \\\n",
       "id                                                                 \n",
       "1           Active              4                    NaN       0   \n",
       "2           Active              3                    NaN       0   \n",
       "\n",
       "    employment_status  highest_level_of_education  length_of_job_search  \\\n",
       "id                                                                        \n",
       "1                   4                           0                     1   \n",
       "2                   4                           5                     1   \n",
       "\n",
       "    biggest_challenge_in_search  professional_experience  \\\n",
       "id                                                         \n",
       "1                             5                        1   \n",
       "2                             2                        0   \n",
       "\n",
       "    work_authorization_status  number_of_interviews-binned  \n",
       "id                                                          \n",
       "1                           0                            2  \n",
       "2                           1                            0  "
      ]
     },
     "execution_count": 184,
     "metadata": {},
     "output_type": "execute_result"
    }
   ],
   "source": [
    "dataset.head(2)"
   ]
  },
  {
   "cell_type": "markdown",
   "metadata": {},
   "source": [
    "# Problem Statement 1 (Binary Classification Problem)"
   ]
  },
  {
   "cell_type": "markdown",
   "metadata": {},
   "source": [
    "To identify if a fellow will ultimately be placed at a company. Since possible outcomes are placed or not placed, hence it is a Binary Classification problem. "
   ]
  },
  {
   "cell_type": "markdown",
   "metadata": {},
   "source": [
    "### Identifying Dataset for model building and evaluation"
   ]
  },
  {
   "cell_type": "markdown",
   "metadata": {},
   "source": [
    "## We split our datasets into two datasets:\n",
    "\n",
    "### 1). dataset_for_model\n",
    "\n",
    "Pathrise in interested in those enrolled fellows who are placed within a year. If a fellow is unable to find a job within a year after joining Pathrise, his/her contract is terminated. Column pathrise_status shows different status of candidates.\n",
    "\n",
    "1). Placed imply that candidate has been placed while enrolled in Pathrise\n",
    "\n",
    "2). Withdrawn(Failed) imply that candidate did not get any placement even after enrolling in Pathrise for more than one year. \n",
    "\n",
    "Therefore, we will consider the placement outcome of these candidates who were with Pathrise over a period of time and we build our model based on this data.\n",
    "\n",
    "### 2). dataset_for_evaluation\n",
    "\n",
    "1). MIA candidates are those who missed in action,\n",
    "\n",
    "2). Withdrawn(Trial) are those candidates who withdrew after a trial period, \n",
    "\n",
    "3). Break for those candidates who are on temporary break,\n",
    "\n",
    "4). Withdrawn for those candidates who withdrew for one reason or other, \n",
    "\n",
    "5). Active are still enrolled with Pathrise.\n",
    "\n",
    "6). Closed Lost who did not accept Pathrise Offer\n",
    "\n",
    "7). Deferred who accepted offer, but willing to start later\n",
    "\n",
    "Therfore this data will be used for prediction whether those candidates if continuing/had continued with Pathrise would have got placement or not.\n"
   ]
  },
  {
   "cell_type": "code",
   "execution_count": 293,
   "metadata": {},
   "outputs": [
    {
     "data": {
      "text/plain": [
       "(1038, 11)"
      ]
     },
     "execution_count": 293,
     "metadata": {},
     "output_type": "execute_result"
    }
   ],
   "source": [
    "dataset_for_model1=dataset[dataset['pathrise_status']. isin([\"Withdrawn (Failed)\",\"Placed\"])]\n",
    "dataset_for_model1.shape"
   ]
  },
  {
   "cell_type": "code",
   "execution_count": 294,
   "metadata": {},
   "outputs": [
    {
     "data": {
      "text/plain": [
       "(1506, 11)"
      ]
     },
     "execution_count": 294,
     "metadata": {},
     "output_type": "execute_result"
    }
   ],
   "source": [
    "dataset_for_evaluation1=dataset[dataset['pathrise_status']. isin([\"Active\",\"Break\",\"MIA\",\"Withdrawn (Trial)\",\"Withdrawn\",\"Closed Lost\",\"Deferred\"])]\n",
    "dataset_for_evaluation1.shape"
   ]
  },
  {
   "cell_type": "markdown",
   "metadata": {},
   "source": [
    "### Identifying Dependent and Independent Features for dataset_for_model"
   ]
  },
  {
   "cell_type": "code",
   "execution_count": 295,
   "metadata": {},
   "outputs": [],
   "source": [
    "X1=dataset_for_model1[[\"primary_track\",\"employment_status\",\"highest_level_of_education\",\"length_of_job_search\",\"biggest_challenge_in_search\",\"professional_experience\",\"work_authorization_status\",\"number_of_interviews-binned\"]]"
   ]
  },
  {
   "cell_type": "code",
   "execution_count": 296,
   "metadata": {},
   "outputs": [],
   "source": [
    "y1=dataset_for_model1[\"placed\"]"
   ]
  },
  {
   "cell_type": "markdown",
   "metadata": {},
   "source": [
    "### Splitting dataset into training and test data"
   ]
  },
  {
   "cell_type": "code",
   "execution_count": 297,
   "metadata": {},
   "outputs": [],
   "source": [
    "from sklearn.model_selection import train_test_split\n",
    "X1_train, X1_test, y1_train, y1_test = train_test_split(X1, y1, train_size=0.8 , random_state=100)"
   ]
  },
  {
   "cell_type": "code",
   "execution_count": 298,
   "metadata": {},
   "outputs": [
    {
     "data": {
      "text/plain": [
       "RandomForestClassifier(bootstrap=True, ccp_alpha=0.0, class_weight=None,\n",
       "                       criterion='gini', max_depth=None, max_features='auto',\n",
       "                       max_leaf_nodes=None, max_samples=None,\n",
       "                       min_impurity_decrease=0.0, min_impurity_split=None,\n",
       "                       min_samples_leaf=1, min_samples_split=2,\n",
       "                       min_weight_fraction_leaf=0.0, n_estimators=100,\n",
       "                       n_jobs=None, oob_score=False, random_state=None,\n",
       "                       verbose=0, warm_start=False)"
      ]
     },
     "execution_count": 298,
     "metadata": {},
     "output_type": "execute_result"
    }
   ],
   "source": [
    "from sklearn.ensemble import RandomForestClassifier \n",
    "model1 = RandomForestClassifier()\n",
    "model1.fit(X1_train, y1_train)"
   ]
  },
  {
   "cell_type": "code",
   "execution_count": 299,
   "metadata": {},
   "outputs": [
    {
     "data": {
      "text/plain": [
       "0.8894230769230769"
      ]
     },
     "execution_count": 299,
     "metadata": {},
     "output_type": "execute_result"
    }
   ],
   "source": [
    "model1.score(X1_test,y1_test)"
   ]
  },
  {
   "cell_type": "code",
   "execution_count": 300,
   "metadata": {},
   "outputs": [],
   "source": [
    "y1_predicted = model1.predict(X1_test)"
   ]
  },
  {
   "cell_type": "code",
   "execution_count": 301,
   "metadata": {},
   "outputs": [
    {
     "data": {
      "text/plain": [
       "array([[  2,  21],\n",
       "       [  2, 183]])"
      ]
     },
     "execution_count": 301,
     "metadata": {},
     "output_type": "execute_result"
    }
   ],
   "source": [
    "from sklearn.metrics import confusion_matrix\n",
    "cm = confusion_matrix(y1_test, y1_predicted)\n",
    "cm"
   ]
  },
  {
   "cell_type": "markdown",
   "metadata": {},
   "source": [
    "## Evaluating cross_val_score"
   ]
  },
  {
   "cell_type": "code",
   "execution_count": 302,
   "metadata": {},
   "outputs": [
    {
     "data": {
      "text/plain": [
       "array([0.91346154, 0.91346154, 0.95192308, 0.88461538, 0.88461538])"
      ]
     },
     "execution_count": 302,
     "metadata": {},
     "output_type": "execute_result"
    }
   ],
   "source": [
    "from sklearn.model_selection import ShuffleSplit\n",
    "from sklearn.model_selection import cross_val_score\n",
    "cv=ShuffleSplit(n_splits=5)\n",
    "cross_val_score(RandomForestClassifier(),X1,y1, cv=cv)"
   ]
  },
  {
   "cell_type": "markdown",
   "metadata": {},
   "source": [
    "### Accuracy score is nearly 90%. Also, Confusion matrix tells us that model is predicting 183 True positive values out of 208 and ratio of False Positive and False Negative is comparatively negligible. Also, cross_val_score imply that model seems to be a model of good fit.¶"
   ]
  },
  {
   "cell_type": "markdown",
   "metadata": {},
   "source": [
    "## Deploying Model to predict placement status of fellow"
   ]
  },
  {
   "cell_type": "code",
   "execution_count": 303,
   "metadata": {},
   "outputs": [],
   "source": [
    "dataset_for_evaluation1=dataset_for_evaluation1[[\"primary_track\",\"employment_status\",\"highest_level_of_education\",\"length_of_job_search\",\"biggest_challenge_in_search\",\"professional_experience\",\"work_authorization_status\",\"number_of_interviews-binned\"]]"
   ]
  },
  {
   "cell_type": "code",
   "execution_count": 304,
   "metadata": {},
   "outputs": [],
   "source": [
    "predicted_status1=model1.predict(dataset_for_evaluation1)"
   ]
  },
  {
   "cell_type": "code",
   "execution_count": 305,
   "metadata": {},
   "outputs": [
    {
     "data": {
      "text/plain": [
       "1    1490\n",
       "0      16\n",
       "dtype: int64"
      ]
     },
     "execution_count": 305,
     "metadata": {},
     "output_type": "execute_result"
    }
   ],
   "source": [
    "pd.Series(predicted_status1).value_counts()"
   ]
  },
  {
   "cell_type": "markdown",
   "metadata": {},
   "source": [
    "## Conclusion (Problem Statement 1)"
   ]
  },
  {
   "cell_type": "markdown",
   "metadata": {},
   "source": [
    "### The model predicts that out of 1506 candidates who are either active or have/had continued enrollement with pathrise, 1490 candidates will get/would have been placed ultimately at a company based on their attributes. That means Pathrise has more than 98.9% placement rate.\n"
   ]
  },
  {
   "cell_type": "markdown",
   "metadata": {},
   "source": [
    "# Problem Statement 2 "
   ]
  },
  {
   "cell_type": "markdown",
   "metadata": {},
   "source": [
    "To identify how long until a placement can be expected at a company. "
   ]
  },
  {
   "cell_type": "markdown",
   "metadata": {},
   "source": [
    "### The problem at first instance is a Regression problem. But if we classify program_duartion_days into different categories,then it becomes Multi-class Classification Problem.\n",
    "\n",
    "Our approach will be to deal this problem as a Classification Problem."
   ]
  },
  {
   "cell_type": "markdown",
   "metadata": {},
   "source": [
    "### Identifying Dataset for model building and evaluation"
   ]
  },
  {
   "cell_type": "markdown",
   "metadata": {},
   "source": [
    "#### 1). dataset_for_model\n",
    "(This includes all those records where pathrise_status of candidates is Placed. That is, we consider data set for placed candidates where program duartion days is already known )\n",
    "\n",
    "#### 2). dataset_for_evaluation \n",
    "(This includes all those records where pathrise_status of candidates is Active or Break or MIA or Withdrawn (Trial) or Deferred or Closed Lost or Withdrawn (in case they had continued with Pathrise)\n",
    " \n",
    "(We will not evaluate program duration days of placement for Withdrawn(Failed) as we already know they didnot get any placement even after one year of continuing with Pathrise)\n"
   ]
  },
  {
   "cell_type": "code",
   "execution_count": 306,
   "metadata": {},
   "outputs": [
    {
     "data": {
      "text/plain": [
       "(956, 11)"
      ]
     },
     "execution_count": 306,
     "metadata": {},
     "output_type": "execute_result"
    }
   ],
   "source": [
    "dataset_for_model2=dataset[dataset['pathrise_status'] ==\"Placed\"]\n",
    "dataset_for_model2.shape"
   ]
  },
  {
   "cell_type": "code",
   "execution_count": 307,
   "metadata": {},
   "outputs": [
    {
     "data": {
      "text/plain": [
       "(1506, 11)"
      ]
     },
     "execution_count": 307,
     "metadata": {},
     "output_type": "execute_result"
    }
   ],
   "source": [
    "dataset_for_evaluation2=dataset[dataset['pathrise_status']. isin([\"Active\",\"Break\",\"MIA\",\"Withdrawn (Trial)\",\"Withdrawn\",\"Deferred\",\"Closed Lost\"])]\n",
    "dataset_for_evaluation2.shape"
   ]
  },
  {
   "cell_type": "markdown",
   "metadata": {},
   "source": [
    "### Identifying Dependent and Independent Features for dataset_for_model"
   ]
  },
  {
   "cell_type": "code",
   "execution_count": 308,
   "metadata": {},
   "outputs": [],
   "source": [
    "X2=dataset_for_model2[[\"primary_track\",\"employment_status\",\"highest_level_of_education\",\"length_of_job_search\",\"biggest_challenge_in_search\",\"professional_experience\",\"work_authorization_status\",\"number_of_interviews-binned\"]]"
   ]
  },
  {
   "cell_type": "code",
   "execution_count": 309,
   "metadata": {},
   "outputs": [],
   "source": [
    "y2=dataset_for_model2[\"program_duration_days\"]\n",
    "y2=y2.astype(int)"
   ]
  },
  {
   "cell_type": "markdown",
   "metadata": {},
   "source": [
    "### Categorize y2 into different Categories"
   ]
  },
  {
   "cell_type": "code",
   "execution_count": 310,
   "metadata": {},
   "outputs": [],
   "source": [
    "def func2(x):\n",
    "    if x < 90:\n",
    "        return \"0-3m\"\n",
    "    elif x < 180:\n",
    "        return \"3-6m\"\n",
    "    elif x < 270:\n",
    "        return \"6-9m\"\n",
    "    elif x < 365:\n",
    "        return \"9-12m\"\n",
    "    else:\n",
    "        return 'more than year'"
   ]
  },
  {
   "cell_type": "code",
   "execution_count": 311,
   "metadata": {},
   "outputs": [],
   "source": [
    "y2=dataset_for_model2['Classification'] = dataset_for_model2[\"program_duration_days\"].apply(func2)"
   ]
  },
  {
   "cell_type": "code",
   "execution_count": 312,
   "metadata": {},
   "outputs": [
    {
     "data": {
      "text/plain": [
       "RandomForestClassifier(bootstrap=True, ccp_alpha=0.0, class_weight=None,\n",
       "                       criterion='gini', max_depth=None, max_features='auto',\n",
       "                       max_leaf_nodes=None, max_samples=None,\n",
       "                       min_impurity_decrease=0.0, min_impurity_split=None,\n",
       "                       min_samples_leaf=1, min_samples_split=2,\n",
       "                       min_weight_fraction_leaf=0.0, n_estimators=100,\n",
       "                       n_jobs=None, oob_score=False, random_state=None,\n",
       "                       verbose=0, warm_start=False)"
      ]
     },
     "execution_count": 312,
     "metadata": {},
     "output_type": "execute_result"
    }
   ],
   "source": [
    "from sklearn.ensemble import RandomForestClassifier \n",
    "model2 = RandomForestClassifier()\n",
    "model2.fit(X2, y2)"
   ]
  },
  {
   "cell_type": "code",
   "execution_count": 313,
   "metadata": {},
   "outputs": [
    {
     "data": {
      "text/plain": [
       "0.9288702928870293"
      ]
     },
     "execution_count": 313,
     "metadata": {},
     "output_type": "execute_result"
    }
   ],
   "source": [
    "model2.score(X2,y2)"
   ]
  },
  {
   "cell_type": "markdown",
   "metadata": {},
   "source": [
    "## Deploying Model to predict program duration days of placed fellow"
   ]
  },
  {
   "cell_type": "code",
   "execution_count": 314,
   "metadata": {},
   "outputs": [],
   "source": [
    "dataset_for_evaluation2=dataset_for_evaluation2[[\"primary_track\",\"employment_status\",\"highest_level_of_education\",\"length_of_job_search\",\"biggest_challenge_in_search\",\"professional_experience\",\"work_authorization_status\",\"number_of_interviews-binned\"]]"
   ]
  },
  {
   "cell_type": "code",
   "execution_count": 315,
   "metadata": {},
   "outputs": [
    {
     "data": {
      "text/html": [
       "<div>\n",
       "<style scoped>\n",
       "    .dataframe tbody tr th:only-of-type {\n",
       "        vertical-align: middle;\n",
       "    }\n",
       "\n",
       "    .dataframe tbody tr th {\n",
       "        vertical-align: top;\n",
       "    }\n",
       "\n",
       "    .dataframe thead th {\n",
       "        text-align: right;\n",
       "    }\n",
       "</style>\n",
       "<table border=\"1\" class=\"dataframe\">\n",
       "  <thead>\n",
       "    <tr style=\"text-align: right;\">\n",
       "      <th></th>\n",
       "      <th>primary_track</th>\n",
       "      <th>employment_status</th>\n",
       "      <th>highest_level_of_education</th>\n",
       "      <th>length_of_job_search</th>\n",
       "      <th>biggest_challenge_in_search</th>\n",
       "      <th>professional_experience</th>\n",
       "      <th>work_authorization_status</th>\n",
       "      <th>number_of_interviews-binned</th>\n",
       "    </tr>\n",
       "    <tr>\n",
       "      <th>id</th>\n",
       "      <th></th>\n",
       "      <th></th>\n",
       "      <th></th>\n",
       "      <th></th>\n",
       "      <th></th>\n",
       "      <th></th>\n",
       "      <th></th>\n",
       "      <th></th>\n",
       "    </tr>\n",
       "  </thead>\n",
       "  <tbody>\n",
       "    <tr>\n",
       "      <th>1</th>\n",
       "      <td>4</td>\n",
       "      <td>4</td>\n",
       "      <td>0</td>\n",
       "      <td>1</td>\n",
       "      <td>5</td>\n",
       "      <td>1</td>\n",
       "      <td>0</td>\n",
       "      <td>2</td>\n",
       "    </tr>\n",
       "    <tr>\n",
       "      <th>2</th>\n",
       "      <td>3</td>\n",
       "      <td>4</td>\n",
       "      <td>5</td>\n",
       "      <td>1</td>\n",
       "      <td>2</td>\n",
       "      <td>0</td>\n",
       "      <td>1</td>\n",
       "      <td>0</td>\n",
       "    </tr>\n",
       "  </tbody>\n",
       "</table>\n",
       "</div>"
      ],
      "text/plain": [
       "    primary_track  employment_status  highest_level_of_education  \\\n",
       "id                                                                 \n",
       "1               4                  4                           0   \n",
       "2               3                  4                           5   \n",
       "\n",
       "    length_of_job_search  biggest_challenge_in_search  \\\n",
       "id                                                      \n",
       "1                      1                            5   \n",
       "2                      1                            2   \n",
       "\n",
       "    professional_experience  work_authorization_status  \\\n",
       "id                                                       \n",
       "1                         1                          0   \n",
       "2                         0                          1   \n",
       "\n",
       "    number_of_interviews-binned  \n",
       "id                               \n",
       "1                             2  \n",
       "2                             0  "
      ]
     },
     "execution_count": 315,
     "metadata": {},
     "output_type": "execute_result"
    }
   ],
   "source": [
    "dataset_for_evaluation2.head(2)"
   ]
  },
  {
   "cell_type": "code",
   "execution_count": 316,
   "metadata": {},
   "outputs": [],
   "source": [
    "predicted_status2=model2.predict(dataset_for_evaluation2)"
   ]
  },
  {
   "cell_type": "code",
   "execution_count": 317,
   "metadata": {},
   "outputs": [],
   "source": [
    "dataset_for_evaluation2[\"program_duration_days\"]=model2.predict(dataset_for_evaluation2)"
   ]
  },
  {
   "cell_type": "code",
   "execution_count": 318,
   "metadata": {},
   "outputs": [
    {
     "data": {
      "text/html": [
       "<div>\n",
       "<style scoped>\n",
       "    .dataframe tbody tr th:only-of-type {\n",
       "        vertical-align: middle;\n",
       "    }\n",
       "\n",
       "    .dataframe tbody tr th {\n",
       "        vertical-align: top;\n",
       "    }\n",
       "\n",
       "    .dataframe thead th {\n",
       "        text-align: right;\n",
       "    }\n",
       "</style>\n",
       "<table border=\"1\" class=\"dataframe\">\n",
       "  <thead>\n",
       "    <tr style=\"text-align: right;\">\n",
       "      <th></th>\n",
       "      <th>primary_track</th>\n",
       "      <th>employment_status</th>\n",
       "      <th>highest_level_of_education</th>\n",
       "      <th>length_of_job_search</th>\n",
       "      <th>biggest_challenge_in_search</th>\n",
       "      <th>professional_experience</th>\n",
       "      <th>work_authorization_status</th>\n",
       "      <th>number_of_interviews-binned</th>\n",
       "      <th>program_duration_days</th>\n",
       "    </tr>\n",
       "    <tr>\n",
       "      <th>id</th>\n",
       "      <th></th>\n",
       "      <th></th>\n",
       "      <th></th>\n",
       "      <th></th>\n",
       "      <th></th>\n",
       "      <th></th>\n",
       "      <th></th>\n",
       "      <th></th>\n",
       "      <th></th>\n",
       "    </tr>\n",
       "  </thead>\n",
       "  <tbody>\n",
       "    <tr>\n",
       "      <th>1</th>\n",
       "      <td>4</td>\n",
       "      <td>4</td>\n",
       "      <td>0</td>\n",
       "      <td>1</td>\n",
       "      <td>5</td>\n",
       "      <td>1</td>\n",
       "      <td>0</td>\n",
       "      <td>2</td>\n",
       "      <td>9-12m</td>\n",
       "    </tr>\n",
       "    <tr>\n",
       "      <th>2</th>\n",
       "      <td>3</td>\n",
       "      <td>4</td>\n",
       "      <td>5</td>\n",
       "      <td>1</td>\n",
       "      <td>2</td>\n",
       "      <td>0</td>\n",
       "      <td>1</td>\n",
       "      <td>0</td>\n",
       "      <td>9-12m</td>\n",
       "    </tr>\n",
       "  </tbody>\n",
       "</table>\n",
       "</div>"
      ],
      "text/plain": [
       "    primary_track  employment_status  highest_level_of_education  \\\n",
       "id                                                                 \n",
       "1               4                  4                           0   \n",
       "2               3                  4                           5   \n",
       "\n",
       "    length_of_job_search  biggest_challenge_in_search  \\\n",
       "id                                                      \n",
       "1                      1                            5   \n",
       "2                      1                            2   \n",
       "\n",
       "    professional_experience  work_authorization_status  \\\n",
       "id                                                       \n",
       "1                         1                          0   \n",
       "2                         0                          1   \n",
       "\n",
       "    number_of_interviews-binned program_duration_days  \n",
       "id                                                     \n",
       "1                             2                 9-12m  \n",
       "2                             0                 9-12m  "
      ]
     },
     "execution_count": 318,
     "metadata": {},
     "output_type": "execute_result"
    }
   ],
   "source": [
    "dataset_for_evaluation2.head(2)"
   ]
  },
  {
   "cell_type": "code",
   "execution_count": 319,
   "metadata": {},
   "outputs": [
    {
     "data": {
      "text/plain": [
       "3-6m              523\n",
       "0-3m              520\n",
       "6-9m              269\n",
       "9-12m             181\n",
       "more than year     13\n",
       "Name: program_duration_days, dtype: int64"
      ]
     },
     "execution_count": 319,
     "metadata": {},
     "output_type": "execute_result"
    }
   ],
   "source": [
    "dataset_for_evaluation2[\"program_duration_days\"].value_counts()"
   ]
  },
  {
   "cell_type": "markdown",
   "metadata": {},
   "source": [
    "## Conclusion (Problem Statement 2)"
   ]
  },
  {
   "cell_type": "markdown",
   "metadata": {},
   "source": [
    "### From the above results, we conclude that 70% fellows are placed in first 6 months of their enrollment (35% in first three months, 35% in 3-6 months). A very less percentage(0.008) of candidates will take more than an year to get placed. Hence we can easily conclude that Pathrise is doing well in placement of fellows. And we can highly recommend anyone looking for a placement to join pathrise "
   ]
  },
  {
   "cell_type": "markdown",
   "metadata": {},
   "source": [
    "## Recommendation to Pathrise"
   ]
  },
  {
   "cell_type": "markdown",
   "metadata": {},
   "source": [
    "Pathrise has more than 98.9% placement rate and Fellows at pathrise (whether they are Closed Lost or Deferred or Withdrawn (Trial) or Withdrawn or MIA or Break) are most likely to be placed within one year of their enrollment with 70% of them during first 6 months. And Pathrise is ought to do a good business with the signed contract (Income Share Agreement) within first 12 months. \n",
    "\n",
    "Therefore,\n",
    "\n",
    "1). Fellows at Pathrise  whose status is MIA, Break, Deferred  are encouraged to get back in action by offering some Lucrative offers \n",
    "\n",
    "2). Fellows at Pathrise whose status is Withdrawn(Trial), Withdrawn, Closed Lost who are not in any contract with Pathrise can be urged to enroll and accept their offer by relaxing some contract conditions.  "
   ]
  },
  {
   "cell_type": "code",
   "execution_count": null,
   "metadata": {},
   "outputs": [],
   "source": []
  }
 ],
 "metadata": {
  "kernelspec": {
   "display_name": "Python 3",
   "language": "python",
   "name": "python3"
  },
  "language_info": {
   "codemirror_mode": {
    "name": "ipython",
    "version": 3
   },
   "file_extension": ".py",
   "mimetype": "text/x-python",
   "name": "python",
   "nbconvert_exporter": "python",
   "pygments_lexer": "ipython3",
   "version": "3.7.6"
  }
 },
 "nbformat": 4,
 "nbformat_minor": 4
}
